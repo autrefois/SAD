{
 "cells": [
  {
   "cell_type": "code",
   "execution_count": 1,
   "metadata": {},
   "outputs": [],
   "source": [
    "import matplotlib.pyplot as plt\n",
    "import numpy as np\n",
    "import pandas as pd\n",
    "import tensorflow as tf\n",
    "import seaborn as sns\n",
    "\n",
    "from keras import regularizers, layers\n",
    "\n",
    "from sklearn.metrics import accuracy_score, precision_score, recall_score, confusion_matrix\n",
    "from sklearn.model_selection import train_test_split\n",
    "from sklearn.manifold import TSNE\n",
    "from sklearn.preprocessing import RobustScaler, StandardScaler\n",
    "\n",
    "from tensorflow.keras.models import Model\n",
    "\n",
    "from time import time"
   ]
  },
  {
   "cell_type": "code",
   "execution_count": 2,
   "metadata": {},
   "outputs": [
    {
     "data": {
      "text/html": [
       "<div>\n",
       "<style scoped>\n",
       "    .dataframe tbody tr th:only-of-type {\n",
       "        vertical-align: middle;\n",
       "    }\n",
       "\n",
       "    .dataframe tbody tr th {\n",
       "        vertical-align: top;\n",
       "    }\n",
       "\n",
       "    .dataframe thead th {\n",
       "        text-align: right;\n",
       "    }\n",
       "</style>\n",
       "<table border=\"1\" class=\"dataframe\">\n",
       "  <thead>\n",
       "    <tr style=\"text-align: right;\">\n",
       "      <th></th>\n",
       "      <th>Time</th>\n",
       "      <th>V1</th>\n",
       "      <th>V2</th>\n",
       "      <th>V3</th>\n",
       "      <th>V4</th>\n",
       "      <th>V5</th>\n",
       "      <th>V6</th>\n",
       "      <th>V7</th>\n",
       "      <th>V8</th>\n",
       "      <th>V9</th>\n",
       "      <th>...</th>\n",
       "      <th>V21</th>\n",
       "      <th>V22</th>\n",
       "      <th>V23</th>\n",
       "      <th>V24</th>\n",
       "      <th>V25</th>\n",
       "      <th>V26</th>\n",
       "      <th>V27</th>\n",
       "      <th>V28</th>\n",
       "      <th>Amount</th>\n",
       "      <th>Class</th>\n",
       "    </tr>\n",
       "  </thead>\n",
       "  <tbody>\n",
       "    <tr>\n",
       "      <th>0</th>\n",
       "      <td>0.0</td>\n",
       "      <td>-1.359807</td>\n",
       "      <td>-0.072781</td>\n",
       "      <td>2.536347</td>\n",
       "      <td>1.378155</td>\n",
       "      <td>-0.338321</td>\n",
       "      <td>0.462388</td>\n",
       "      <td>0.239599</td>\n",
       "      <td>0.098698</td>\n",
       "      <td>0.363787</td>\n",
       "      <td>...</td>\n",
       "      <td>-0.018307</td>\n",
       "      <td>0.277838</td>\n",
       "      <td>-0.110474</td>\n",
       "      <td>0.066928</td>\n",
       "      <td>0.128539</td>\n",
       "      <td>-0.189115</td>\n",
       "      <td>0.133558</td>\n",
       "      <td>-0.021053</td>\n",
       "      <td>149.62</td>\n",
       "      <td>0</td>\n",
       "    </tr>\n",
       "    <tr>\n",
       "      <th>1</th>\n",
       "      <td>0.0</td>\n",
       "      <td>1.191857</td>\n",
       "      <td>0.266151</td>\n",
       "      <td>0.166480</td>\n",
       "      <td>0.448154</td>\n",
       "      <td>0.060018</td>\n",
       "      <td>-0.082361</td>\n",
       "      <td>-0.078803</td>\n",
       "      <td>0.085102</td>\n",
       "      <td>-0.255425</td>\n",
       "      <td>...</td>\n",
       "      <td>-0.225775</td>\n",
       "      <td>-0.638672</td>\n",
       "      <td>0.101288</td>\n",
       "      <td>-0.339846</td>\n",
       "      <td>0.167170</td>\n",
       "      <td>0.125895</td>\n",
       "      <td>-0.008983</td>\n",
       "      <td>0.014724</td>\n",
       "      <td>2.69</td>\n",
       "      <td>0</td>\n",
       "    </tr>\n",
       "    <tr>\n",
       "      <th>2</th>\n",
       "      <td>1.0</td>\n",
       "      <td>-1.358354</td>\n",
       "      <td>-1.340163</td>\n",
       "      <td>1.773209</td>\n",
       "      <td>0.379780</td>\n",
       "      <td>-0.503198</td>\n",
       "      <td>1.800499</td>\n",
       "      <td>0.791461</td>\n",
       "      <td>0.247676</td>\n",
       "      <td>-1.514654</td>\n",
       "      <td>...</td>\n",
       "      <td>0.247998</td>\n",
       "      <td>0.771679</td>\n",
       "      <td>0.909412</td>\n",
       "      <td>-0.689281</td>\n",
       "      <td>-0.327642</td>\n",
       "      <td>-0.139097</td>\n",
       "      <td>-0.055353</td>\n",
       "      <td>-0.059752</td>\n",
       "      <td>378.66</td>\n",
       "      <td>0</td>\n",
       "    </tr>\n",
       "    <tr>\n",
       "      <th>3</th>\n",
       "      <td>1.0</td>\n",
       "      <td>-0.966272</td>\n",
       "      <td>-0.185226</td>\n",
       "      <td>1.792993</td>\n",
       "      <td>-0.863291</td>\n",
       "      <td>-0.010309</td>\n",
       "      <td>1.247203</td>\n",
       "      <td>0.237609</td>\n",
       "      <td>0.377436</td>\n",
       "      <td>-1.387024</td>\n",
       "      <td>...</td>\n",
       "      <td>-0.108300</td>\n",
       "      <td>0.005274</td>\n",
       "      <td>-0.190321</td>\n",
       "      <td>-1.175575</td>\n",
       "      <td>0.647376</td>\n",
       "      <td>-0.221929</td>\n",
       "      <td>0.062723</td>\n",
       "      <td>0.061458</td>\n",
       "      <td>123.50</td>\n",
       "      <td>0</td>\n",
       "    </tr>\n",
       "    <tr>\n",
       "      <th>4</th>\n",
       "      <td>2.0</td>\n",
       "      <td>-1.158233</td>\n",
       "      <td>0.877737</td>\n",
       "      <td>1.548718</td>\n",
       "      <td>0.403034</td>\n",
       "      <td>-0.407193</td>\n",
       "      <td>0.095921</td>\n",
       "      <td>0.592941</td>\n",
       "      <td>-0.270533</td>\n",
       "      <td>0.817739</td>\n",
       "      <td>...</td>\n",
       "      <td>-0.009431</td>\n",
       "      <td>0.798278</td>\n",
       "      <td>-0.137458</td>\n",
       "      <td>0.141267</td>\n",
       "      <td>-0.206010</td>\n",
       "      <td>0.502292</td>\n",
       "      <td>0.219422</td>\n",
       "      <td>0.215153</td>\n",
       "      <td>69.99</td>\n",
       "      <td>0</td>\n",
       "    </tr>\n",
       "  </tbody>\n",
       "</table>\n",
       "<p>5 rows × 31 columns</p>\n",
       "</div>"
      ],
      "text/plain": [
       "   Time        V1        V2        V3        V4        V5        V6        V7   \n",
       "0   0.0 -1.359807 -0.072781  2.536347  1.378155 -0.338321  0.462388  0.239599  \\\n",
       "1   0.0  1.191857  0.266151  0.166480  0.448154  0.060018 -0.082361 -0.078803   \n",
       "2   1.0 -1.358354 -1.340163  1.773209  0.379780 -0.503198  1.800499  0.791461   \n",
       "3   1.0 -0.966272 -0.185226  1.792993 -0.863291 -0.010309  1.247203  0.237609   \n",
       "4   2.0 -1.158233  0.877737  1.548718  0.403034 -0.407193  0.095921  0.592941   \n",
       "\n",
       "         V8        V9  ...       V21       V22       V23       V24       V25   \n",
       "0  0.098698  0.363787  ... -0.018307  0.277838 -0.110474  0.066928  0.128539  \\\n",
       "1  0.085102 -0.255425  ... -0.225775 -0.638672  0.101288 -0.339846  0.167170   \n",
       "2  0.247676 -1.514654  ...  0.247998  0.771679  0.909412 -0.689281 -0.327642   \n",
       "3  0.377436 -1.387024  ... -0.108300  0.005274 -0.190321 -1.175575  0.647376   \n",
       "4 -0.270533  0.817739  ... -0.009431  0.798278 -0.137458  0.141267 -0.206010   \n",
       "\n",
       "        V26       V27       V28  Amount  Class  \n",
       "0 -0.189115  0.133558 -0.021053  149.62      0  \n",
       "1  0.125895 -0.008983  0.014724    2.69      0  \n",
       "2 -0.139097 -0.055353 -0.059752  378.66      0  \n",
       "3 -0.221929  0.062723  0.061458  123.50      0  \n",
       "4  0.502292  0.219422  0.215153   69.99      0  \n",
       "\n",
       "[5 rows x 31 columns]"
      ]
     },
     "execution_count": 2,
     "metadata": {},
     "output_type": "execute_result"
    }
   ],
   "source": [
    "data = pd.read_csv('./dataset/creditCardActivity/creditcard.csv', engine='pyarrow')\n",
    "raw_data = data.values\n",
    "data.head()"
   ]
  },
  {
   "cell_type": "code",
   "execution_count": 3,
   "metadata": {},
   "outputs": [
    {
     "name": "stdout",
     "output_type": "stream",
     "text": [
      "Reduced dataset shape : (4492, 31)\n",
      "Shape of Features : (284807, 29) and Target: (284807,)\n"
     ]
    }
   ],
   "source": [
    "# Separate normal transactions from fraudulent transactions\n",
    "normal_data = data[data['Class'] == 0]\n",
    "normal_data_sample = normal_data.sample(4000)\n",
    "fraud_data = data[data['Class'] == 1]\n",
    "\n",
    "# reduced_set = pd.concat([normal_data_sample, fraud_data]).reset_index(drop=True)\n",
    "reduced_set = pd.concat([normal_data_sample, fraud_data.sample(frac=1)]).reset_index(drop=True)\n",
    "\n",
    "# Splitting the dataset into X and y features\n",
    "y_reduced = reduced_set['Class']\n",
    "X_reduced = reduced_set.drop('Class', axis=1)\n",
    "X_reduced = X_reduced.drop('Time', axis=1)\n",
    "\n",
    "# X.to_json('test_data.json', orient='records')\n",
    "\n",
    "y = data['Class']\n",
    "X = data.drop('Class', axis=1)\n",
    "X = X.drop('Time', axis=1)\n",
    "\n",
    "test_normal = normal_data.drop('Class', axis=1)\n",
    "test_fraud = fraud_data.drop('Class', axis=1)\n",
    "test_normal = test_normal.drop('Time', axis=1)\n",
    "test_fraud = test_fraud.drop('Time', axis=1)\n",
    "\n",
    "print(f\"Reduced dataset shape : {reduced_set.shape}\")\n",
    "print(f\"Shape of Features : {X.shape} and Target: {y.shape}\")"
   ]
  },
  {
   "cell_type": "code",
   "execution_count": 4,
   "metadata": {},
   "outputs": [],
   "source": [
    "# Visualise the data\n",
    "def tsne_plot(X, y):\n",
    "    sns.set(style='whitegrid', palette='muted')\n",
    "    # Initializing TSNE object with 2 principal components\n",
    "    tsne = TSNE(n_components=2, random_state=42, init='random', learning_rate=200)\n",
    "    # Fitting the data\n",
    "    X_trans = tsne.fit_transform(X)\n",
    "\n",
    "    plt.figure(figsize=(12, 8))\n",
    "\n",
    "    plt.scatter(X_trans[np.where(y == 0), 0], X_trans[np.where(y == 0), 1], marker='o', color='blue', linewidth=1, alpha=0.8, label='Normal')\n",
    "    plt.scatter(X_trans[np.where(y == 1), 0], X_trans[np.where(y == 1), 1], marker='o', color='orange', linewidth=1, alpha=0.8, label='Fraud')\n",
    "\n",
    "    plt.legend(loc='best')\n",
    "\n",
    "    plt.show()"
   ]
  },
  {
   "cell_type": "code",
   "execution_count": null,
   "metadata": {},
   "outputs": [],
   "source": [
    "tsne_plot(X, y)"
   ]
  },
  {
   "cell_type": "code",
   "execution_count": 6,
   "metadata": {},
   "outputs": [
    {
     "name": "stdout",
     "output_type": "stream",
     "text": [
      "Shape of the input data : 29\n"
     ]
    }
   ],
   "source": [
    "print(f\"Shape of the input data : {X.shape[1]}\")"
   ]
  },
  {
   "cell_type": "code",
   "execution_count": 5,
   "metadata": {},
   "outputs": [],
   "source": [
    "# Convert relative 'Time' to hour of day\n",
    "# data['Time'] = data['Time'].apply(lambda t: (t / 3600) % 24)\n",
    "\n",
    "# Scale Time and Amount\n",
    "# data['Time'] = StandardScaler().fit_transform(data['Time'].values.reshape(-1, 1))\n",
    "# data['Amount'] = StandardScaler().fit_transform(data['Amount'].values.reshape(-1, 1))\n",
    "\n",
    "# Better accuracy\n",
    "data = data.drop(['Time'], axis=1)\n",
    "\n",
    "train_x, test_x = train_test_split(data, test_size=0.2, random_state=736)\n",
    "train_x = train_x[train_x['Class'] == 0]    # train only on normal transactions data\n",
    "train_x = train_x.drop(['Class'], axis=1)   # drop the class column\n",
    "\n",
    "test_x_normal = test_x[test_x['Class'] == 0].sample(5000)\n",
    "test_x_normal = test_x_normal.drop(['Class'], axis=1).values\n",
    "test_x_fraud = test_x[test_x['Class'] == 1]\n",
    "test_x_fraud = test_x_fraud.drop(['Class'], axis=1).values\n",
    "\n",
    "test_normal_sample = normal_data_sample.drop(['Class'], axis=1)\n",
    "test_fraud_sample = fraud_data.drop(['Class'], axis=1)\n",
    "# test_normal_sample = normal_data_sample.drop(['Time'], axis=1)\n",
    "# test_fraud_sample = fraud_data.drop(['Time'], axis=1)\n",
    "\n",
    "test_y = test_x['Class']                    # save the class column for the test set\n",
    "test_x = test_x.drop(['Class'], axis=1)     # drop the class column\n",
    "\n",
    "test = test_x.sample(1)\n",
    "\n",
    "train_x = train_x.values                    # transform to ndarray\n",
    "test_x = test_x.values                      # transform to ndarray"
   ]
  },
  {
   "cell_type": "code",
   "execution_count": 6,
   "metadata": {},
   "outputs": [],
   "source": [
    "hyperparams = {\n",
    "    \"epochs\": 20,\n",
    "    \"batch_size\": 32\n",
    "}"
   ]
  },
  {
   "cell_type": "code",
   "execution_count": 17,
   "metadata": {},
   "outputs": [
    {
     "name": "stdout",
     "output_type": "stream",
     "text": [
      "[PhysicalDevice(name='/physical_device:GPU:0', device_type='GPU')]\n",
      "[PhysicalDevice(name='/physical_device:CPU:0', device_type='CPU')]\n",
      "[LogicalDevice(name='/device:GPU:0', device_type='GPU')]\n",
      "[LogicalDevice(name='/device:CPU:0', device_type='CPU')]\n",
      "TensorFlow version: 2.10.0\n"
     ]
    }
   ],
   "source": [
    "print(tf.config.list_physical_devices('GPU'))\n",
    "print(tf.config.list_physical_devices('CPU'))\n",
    "print(tf.config.list_logical_devices('GPU'))\n",
    "print(tf.config.list_logical_devices('CPU'))\n",
    "\n",
    "print(\"TensorFlow version: {}\".format(tf.__version__))\n"
   ]
  },
  {
   "cell_type": "code",
   "execution_count": 15,
   "metadata": {},
   "outputs": [
    {
     "data": {
      "text/plain": [
       "<module 'tensorflow._api.v2.config' from '/Users/odette/miniforge3/lib/python3.10/site-packages/tensorflow/_api/v2/config/__init__.py'>"
      ]
     },
     "execution_count": 15,
     "metadata": {},
     "output_type": "execute_result"
    }
   ],
   "source": [
    "tf.config"
   ]
  },
  {
   "cell_type": "code",
   "execution_count": 7,
   "metadata": {},
   "outputs": [],
   "source": [
    "# Build the model :)\n",
    "class FraudDetector(Model):\n",
    "\n",
    "    def __init__(self):\n",
    "        super(FraudDetector, self).__init__()\n",
    "\n",
    "        self.encoder = tf.keras.Sequential([\n",
    "            layers.Dense(29, activation='relu', input_shape=(29, )),\n",
    "            layers.Dense(14, activation='tanh', activity_regularizer=regularizers.l1(1e-7)),\n",
    "            layers.Dense(7, activation='tanh', activity_regularizer=regularizers.l1(1e-7))]\n",
    "        )\n",
    "\n",
    "        self.decoder = tf.keras.Sequential([\n",
    "            layers.Dense(14, activation='tanh', activity_regularizer=regularizers.l1(1e-7)),\n",
    "            layers.Dense(29, activation='relu')]\n",
    "        )\n",
    "\n",
    "    def call(self, x):\n",
    "        encoded = self.encoder(x)\n",
    "        decoded = self.decoder(encoded)\n",
    "        return decoded\n",
    "\n",
    "    def encode(self, x):\n",
    "        return self.encoder(x)\n",
    "\n",
    "    def decode(self, encoded_x):\n",
    "        return self.decoder(encoded_x)"
   ]
  },
  {
   "cell_type": "code",
   "execution_count": 8,
   "metadata": {},
   "outputs": [
    {
     "name": "stdout",
     "output_type": "stream",
     "text": [
      "Metal device set to: Apple M2 Pro\n",
      "\n",
      "systemMemory: 16.00 GB\n",
      "maxCacheSize: 5.33 GB\n",
      "\n",
      "Epoch 1/20\n"
     ]
    },
    {
     "name": "stderr",
     "output_type": "stream",
     "text": [
      "2023-05-27 15:51:53.949009: I tensorflow/core/common_runtime/pluggable_device/pluggable_device_factory.cc:306] Could not identify NUMA node of platform GPU ID 0, defaulting to 0. Your kernel may not have been built with NUMA support.\n",
      "2023-05-27 15:51:53.949197: I tensorflow/core/common_runtime/pluggable_device/pluggable_device_factory.cc:272] Created TensorFlow device (/job:localhost/replica:0/task:0/device:GPU:0 with 0 MB memory) -> physical PluggableDevice (device: 0, name: METAL, pci bus id: <undefined>)\n",
      "2023-05-27 15:51:54.117208: W tensorflow/core/platform/profile_utils/cpu_utils.cc:128] Failed to get CPU frequency: 0 Hz\n",
      "2023-05-27 15:51:54.473517: I tensorflow/core/grappler/optimizers/custom_graph_optimizer_registry.cc:114] Plugin optimizer for device_type GPU is enabled.\n"
     ]
    },
    {
     "name": "stdout",
     "output_type": "stream",
     "text": [
      "7108/7108 [==============================] - ETA: 0s - loss: 2196.0244 - accuracy: 0.8752"
     ]
    },
    {
     "name": "stderr",
     "output_type": "stream",
     "text": [
      "2023-05-27 15:52:43.139769: I tensorflow/core/grappler/optimizers/custom_graph_optimizer_registry.cc:114] Plugin optimizer for device_type GPU is enabled.\n"
     ]
    },
    {
     "name": "stdout",
     "output_type": "stream",
     "text": [
      "7108/7108 [==============================] - 55s 8ms/step - loss: 2196.0244 - accuracy: 0.8752 - val_loss: 2030.0905 - val_accuracy: 0.8771\n",
      "Epoch 2/20\n",
      "7108/7108 [==============================] - 55s 8ms/step - loss: 1902.8197 - accuracy: 0.8865 - val_loss: 1787.8760 - val_accuracy: 0.8829\n",
      "Epoch 3/20\n",
      "7108/7108 [==============================] - 53s 8ms/step - loss: 1700.4478 - accuracy: 0.8845 - val_loss: 1613.7357 - val_accuracy: 0.8824\n",
      "Epoch 4/20\n",
      "7108/7108 [==============================] - 52s 7ms/step - loss: 1553.9598 - accuracy: 0.8865 - val_loss: 1480.2369 - val_accuracy: 0.8829\n",
      "Epoch 5/20\n",
      "7108/7108 [==============================] - 51s 7ms/step - loss: 1439.7847 - accuracy: 0.8758 - val_loss: 1375.0573 - val_accuracy: 0.8804\n",
      "Epoch 6/20\n",
      "7108/7108 [==============================] - 51s 7ms/step - loss: 1345.4609 - accuracy: 0.8782 - val_loss: 1285.3031 - val_accuracy: 0.8816\n",
      "Epoch 7/20\n",
      "7108/7108 [==============================] - 51s 7ms/step - loss: 1266.3215 - accuracy: 0.8776 - val_loss: 1210.7428 - val_accuracy: 0.8826\n",
      "Epoch 8/20\n",
      "7108/7108 [==============================] - 52s 7ms/step - loss: 1200.2080 - accuracy: 0.8801 - val_loss: 1146.2904 - val_accuracy: 0.8851\n",
      "Epoch 9/20\n",
      "7108/7108 [==============================] - 50s 7ms/step - loss: 1142.8091 - accuracy: 0.8927 - val_loss: 1090.5131 - val_accuracy: 0.9028\n",
      "Epoch 10/20\n",
      "7108/7108 [==============================] - 51s 7ms/step - loss: 1092.0165 - accuracy: 0.9017 - val_loss: 1040.4021 - val_accuracy: 0.9016\n",
      "Epoch 11/20\n",
      "7108/7108 [==============================] - 52s 7ms/step - loss: 1047.1313 - accuracy: 0.9049 - val_loss: 996.6099 - val_accuracy: 0.9066\n",
      "Epoch 12/20\n",
      "7108/7108 [==============================] - 52s 7ms/step - loss: 1007.6466 - accuracy: 0.9096 - val_loss: 956.9416 - val_accuracy: 0.9148\n",
      "Epoch 13/20\n",
      "7108/7108 [==============================] - 52s 7ms/step - loss: 971.2988 - accuracy: 0.9137 - val_loss: 920.2244 - val_accuracy: 0.9123\n",
      "Epoch 14/20\n",
      "7108/7108 [==============================] - 51s 7ms/step - loss: 938.8697 - accuracy: 0.9102 - val_loss: 887.9202 - val_accuracy: 0.9082\n",
      "Epoch 15/20\n",
      "7108/7108 [==============================] - 51s 7ms/step - loss: 908.7032 - accuracy: 0.9116 - val_loss: 857.4974 - val_accuracy: 0.8951\n",
      "Epoch 16/20\n",
      "7108/7108 [==============================] - 52s 7ms/step - loss: 881.9178 - accuracy: 0.9041 - val_loss: 830.3015 - val_accuracy: 0.9136\n",
      "Epoch 17/20\n",
      "7108/7108 [==============================] - 51s 7ms/step - loss: 856.9450 - accuracy: 0.9109 - val_loss: 804.4377 - val_accuracy: 0.9167\n",
      "Epoch 18/20\n",
      "7108/7108 [==============================] - 51s 7ms/step - loss: 833.5161 - accuracy: 0.9134 - val_loss: 781.2242 - val_accuracy: 0.8928\n",
      "Epoch 19/20\n",
      "7108/7108 [==============================] - 51s 7ms/step - loss: 812.7967 - accuracy: 0.9173 - val_loss: 759.6353 - val_accuracy: 0.8968\n",
      "Epoch 20/20\n",
      "7108/7108 [==============================] - 51s 7ms/step - loss: 792.8673 - accuracy: 0.9184 - val_loss: 738.8424 - val_accuracy: 0.9141\n"
     ]
    }
   ],
   "source": [
    "autoencoder = FraudDetector()\n",
    "\n",
    "# Compule the model\n",
    "autoencoder.compile(optimizer='adam', metrics=['accuracy'], loss='mse')\n",
    "\n",
    "# Train the model\n",
    "history = autoencoder.fit(x=train_x, y=train_x, batch_size=hyperparams['batch_size'], epochs=hyperparams['epochs'], shuffle=True, validation_data=(test_x, test_x))"
   ]
  },
  {
   "cell_type": "code",
   "execution_count": 9,
   "metadata": {},
   "outputs": [
    {
     "name": "stdout",
     "output_type": "stream",
     "text": [
      "Model: \"fraud_detector\"\n",
      "_________________________________________________________________\n",
      " Layer (type)                Output Shape              Param #   \n",
      "=================================================================\n",
      " sequential (Sequential)     (None, 7)                 1395      \n",
      "|¯¯¯¯¯¯¯¯¯¯¯¯¯¯¯¯¯¯¯¯¯¯¯¯¯¯¯¯¯¯¯¯¯¯¯¯¯¯¯¯¯¯¯¯¯¯¯¯¯¯¯¯¯¯¯¯¯¯¯¯¯¯¯|\n",
      "| dense (Dense)             (None, 29)                870       |\n",
      "|                                                               |\n",
      "| dense_1 (Dense)           (None, 14)                420       |\n",
      "|                                                               |\n",
      "| dense_2 (Dense)           (None, 7)                 105       |\n",
      "¯¯¯¯¯¯¯¯¯¯¯¯¯¯¯¯¯¯¯¯¯¯¯¯¯¯¯¯¯¯¯¯¯¯¯¯¯¯¯¯¯¯¯¯¯¯¯¯¯¯¯¯¯¯¯¯¯¯¯¯¯¯¯¯¯\n",
      " sequential_1 (Sequential)   (None, 29)                547       \n",
      "|¯¯¯¯¯¯¯¯¯¯¯¯¯¯¯¯¯¯¯¯¯¯¯¯¯¯¯¯¯¯¯¯¯¯¯¯¯¯¯¯¯¯¯¯¯¯¯¯¯¯¯¯¯¯¯¯¯¯¯¯¯¯¯|\n",
      "| dense_3 (Dense)           (None, 14)                112       |\n",
      "|                                                               |\n",
      "| dense_4 (Dense)           (None, 29)                435       |\n",
      "¯¯¯¯¯¯¯¯¯¯¯¯¯¯¯¯¯¯¯¯¯¯¯¯¯¯¯¯¯¯¯¯¯¯¯¯¯¯¯¯¯¯¯¯¯¯¯¯¯¯¯¯¯¯¯¯¯¯¯¯¯¯¯¯¯\n",
      "=================================================================\n",
      "Total params: 1,942\n",
      "Trainable params: 1,942\n",
      "Non-trainable params: 0\n",
      "_________________________________________________________________\n"
     ]
    }
   ],
   "source": [
    "autoencoder.summary(expand_nested=True)"
   ]
  },
  {
   "cell_type": "code",
   "execution_count": 10,
   "metadata": {},
   "outputs": [
    {
     "name": "stdout",
     "output_type": "stream",
     "text": [
      "INFO:tensorflow:Assets written to: ../models/fraud_detector/1685195403/assets\n"
     ]
    }
   ],
   "source": [
    "ts = int(time())\n",
    "filepath = f'../models/fraud_detector/{ts}'\n",
    "autoencoder.save(filepath=filepath, save_format='tf')"
   ]
  },
  {
   "cell_type": "code",
   "execution_count": null,
   "metadata": {},
   "outputs": [],
   "source": [
    "plt.plot(history.history[\"loss\"], label=\"Training Loss\")\n",
    "plt.plot(history.history[\"val_loss\"], label=\"Validation Loss\")\n",
    "plt.legend()"
   ]
  },
  {
   "cell_type": "code",
   "execution_count": null,
   "metadata": {},
   "outputs": [],
   "source": [
    "# normal_points = autoencoder.predict(test_normal_sample)\n",
    "# fraud_points = autoencoder.predict(test_fraud_sample)\n",
    "\n",
    "# normal_points = autoencoder.predict(test_x_normal)\n",
    "# fraud_points = autoencoder.predict(test_x_fraud)\n",
    "\n",
    "normal_points = autoencoder.predict(test_normal)\n",
    "fraud_points = autoencoder.predict(test_fraud)\n",
    "\n",
    "encoded_X = np.append(normal_points, fraud_points, axis=0)\n",
    "y_normal = np.zeros(normal_points.shape[0])\n",
    "y_fraud = np.ones(fraud_points.shape[0])\n",
    "encoded_y = np.append(y_normal, y_fraud, axis=0)"
   ]
  },
  {
   "cell_type": "code",
   "execution_count": null,
   "metadata": {},
   "outputs": [],
   "source": [
    "tsne_plot(encoded_X, encoded_y)"
   ]
  },
  {
   "cell_type": "code",
   "execution_count": null,
   "metadata": {},
   "outputs": [],
   "source": [
    "normal_points = autoencoder.predict(test_normal_sample)\n",
    "fraud_points = autoencoder.predict(test_fraud_sample)\n",
    "\n",
    "mse = np.mean(np.square(test_fraud_sample - fraud_points), axis=1)\n",
    "mse"
   ]
  },
  {
   "cell_type": "code",
   "execution_count": null,
   "metadata": {},
   "outputs": [],
   "source": [
    "predictions = autoencoder.predict(test)\n",
    "mse = np.mean(np.power(test_x - predictions, 2), axis=1)\n",
    "error_df = pd.DataFrame({'reconstruction_error': mse,\n",
    "                        'true_class': test_y})\n",
    "error_df.describe()\n",
    "test"
   ]
  },
  {
   "cell_type": "code",
   "execution_count": null,
   "metadata": {},
   "outputs": [],
   "source": [
    "# Reconstruction error without fraud\n",
    "fig = plt.figure()\n",
    "ax = fig.add_subplot(111)\n",
    "normal_error_df = error_df[(error_df['true_class'] == 0) & (error_df['reconstruction_error'] < 10)]\n",
    "_ = ax.hist(normal_error_df.reconstruction_error.values, bins=10)"
   ]
  },
  {
   "cell_type": "code",
   "execution_count": null,
   "metadata": {},
   "outputs": [],
   "source": [
    "# Reconstruction error with fraud\n",
    "fig = plt.figure()\n",
    "ax = fig.add_subplot(111)\n",
    "fraud_error_df = error_df[error_df['true_class'] == 1]\n",
    "_ = ax.hist(fraud_error_df.reconstruction_error.values, bins=10)"
   ]
  },
  {
   "cell_type": "code",
   "execution_count": null,
   "metadata": {},
   "outputs": [],
   "source": [
    "from sklearn.metrics import (confusion_matrix, precision_recall_curve, auc,\n",
    "                             roc_curve, recall_score, classification_report, f1_score,\n",
    "                             precision_recall_fscore_support)\n",
    "\n",
    "fpr, tpr, thresholds = roc_curve(error_df.true_class, error_df.reconstruction_error)\n",
    "roc_auc = auc(fpr, tpr)\n",
    "\n",
    "plt.title('Receiver Operating Characteristic')\n",
    "plt.plot(fpr, tpr, label='AUC = %0.4f' % roc_auc)\n",
    "plt.legend(loc='lower right')\n",
    "plt.plot([0, 1], [0, 1], 'r--')\n",
    "plt.xlim([-0.001, 1])\n",
    "plt.ylim([0, 1.001])\n",
    "plt.ylabel('True Positive Rate')\n",
    "plt.xlabel('False Positive Rate')\n",
    "plt.show()"
   ]
  },
  {
   "cell_type": "code",
   "execution_count": null,
   "metadata": {},
   "outputs": [],
   "source": [
    "precision, recall, th = precision_recall_curve(error_df.true_class, error_df.reconstruction_error)\n",
    "plt.plot(recall, precision, 'b', label='Precision-Recall curve')\n",
    "plt.title('Recall vs Precision')\n",
    "plt.xlabel('Recall')\n",
    "plt.ylabel('Precision')\n",
    "plt.show()"
   ]
  },
  {
   "cell_type": "code",
   "execution_count": null,
   "metadata": {},
   "outputs": [],
   "source": [
    "# Prediction analysis\n",
    "\n",
    "error_threshold = 2.9\n",
    "\n",
    "groups = error_df.groupby('true_class')\n",
    "fig, ax = plt.subplots()\n",
    "\n",
    "for name, group in groups:\n",
    "    ax.plot(group.index, group.reconstruction_error, marker='o', color=\"r\" if name == 1 else \"g\", ms=3.5, linestyle='',\n",
    "            label=\"Fraud\" if name == 1 else \"Normal\")\n",
    "ax.hlines(error_threshold, ax.get_xlim()[0], ax.get_xlim()[1], colors=\"b\", zorder=100, label='Threshold')\n",
    "ax.legend()\n",
    "plt.title(\"Reconstruction error for different classes\")\n",
    "plt.ylabel(\"Reconstruction error\")\n",
    "plt.xlabel(\"Data point index\")\n",
    "plt.show()"
   ]
  },
  {
   "cell_type": "code",
   "execution_count": null,
   "metadata": {},
   "outputs": [],
   "source": [
    "# confusion matrix\n",
    "\n",
    "y_pred = [1 if e > error_threshold else 0 for e in error_df.reconstruction_error.values]\n",
    "conf_matrix = confusion_matrix(error_df.true_class, y_pred)\n",
    "plt.figure(figsize=(12, 12))\n",
    "sns.heatmap(conf_matrix, xticklabels=[\"Normal\", \"Fraud\"], yticklabels=[\"Normal\", \"Fraud\"], annot=True, fmt=\"d\")\n",
    "plt.title(\"Confusion matrix\")\n",
    "plt.ylabel('True class')\n",
    "plt.xlabel('Predicted class')\n",
    "plt.show()"
   ]
  },
  {
   "cell_type": "code",
   "execution_count": null,
   "metadata": {},
   "outputs": [],
   "source": [
    "### failed models\n",
    "# Build the model :)\n",
    "class deprecated_FraudDetector(Model):\n",
    "\n",
    "    def __init__(self):\n",
    "        super(deprecated_FraudDetector, self).__init__()\n",
    "\n",
    "        self.encoder = tf.keras.Sequential([\n",
    "            layers.Dense(18, activation='tanh', activity_regularizer=regularizers.l1(1e-7)),\n",
    "            layers.Dense(10, activation='relu'),\n",
    "            layers.Dense(6, activation='tanh', activity_regularizer=regularizers.l1(1e-7))])\n",
    "\n",
    "        self.decoder = tf.keras.Sequential([\n",
    "            layers.Dense(10, activation='relu'),\n",
    "            layers.Dense(18, activation='tanh', activity_regularizer=regularizers.l1(1e-7)),\n",
    "            layers.Dense(30, activation='relu')]\n",
    "        )\n",
    "\n",
    "    def call(self, x):\n",
    "        encoded = self.encoder(x)\n",
    "        decoded = self.decoder(encoded)\n",
    "        return decoded\n",
    "\n",
    "\n",
    "# Build the model :)\n",
    "class deprecated_SimpleDetector(Model):\n",
    "\n",
    "    def __init__(self):\n",
    "        super(deprecated_SimpleDetector, self).__init__()\n",
    "\n",
    "        self.encoder = tf.keras.Sequential([\n",
    "            layers.Dense(30, activation='relu', input_shape=(30, )),\n",
    "            layers.Dense(14, activation='relu'),\n",
    "            layers.Dense(7, activation='relu')]\n",
    "        )\n",
    "\n",
    "        self.decoder = tf.keras.Sequential([\n",
    "            layers.Dense(14, activation='relu'),\n",
    "            layers.Dense(30, activation='relu')]\n",
    "        )\n",
    "\n",
    "    def call(self, x):\n",
    "        encoded = self.encoder(x)\n",
    "        decoded = self.decoder(encoded)\n",
    "        return decoded"
   ]
  }
 ],
 "metadata": {
  "kernelspec": {
   "display_name": "base",
   "language": "python",
   "name": "python3"
  },
  "language_info": {
   "codemirror_mode": {
    "name": "ipython",
    "version": 3
   },
   "file_extension": ".py",
   "mimetype": "text/x-python",
   "name": "python",
   "nbconvert_exporter": "python",
   "pygments_lexer": "ipython3",
   "version": "3.10.10"
  },
  "orig_nbformat": 4
 },
 "nbformat": 4,
 "nbformat_minor": 2
}
